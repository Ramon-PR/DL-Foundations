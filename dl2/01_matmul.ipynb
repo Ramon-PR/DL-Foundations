{
 "cells": [
  {
   "cell_type": "markdown",
   "id": "212ffd99",
   "metadata": {},
   "source": [
    "# Initial Python model"
   ]
  },
  {
   "cell_type": "code",
   "execution_count": null,
   "id": "caa2cf3d",
   "metadata": {},
   "outputs": [],
   "source": [
    "import torch\n",
    "\n",
    "x = torch.randn(5, 784) # 5 samples, images of 28*28 = 784 pixels\n",
    "weights = torch.randn(784, 10)\n",
    "bias = torch.zeros(10)\n",
    "\n",
    "print(weights.shape)\n",
    "print(bias.shape)"
   ]
  },
  {
   "cell_type": "markdown",
   "id": "07f4eb94",
   "metadata": {},
   "source": [
    "## Matrix multiplication"
   ]
  },
  {
   "cell_type": "code",
   "execution_count": null,
   "id": "b6fb1ef3",
   "metadata": {},
   "outputs": [],
   "source": []
  },
  {
   "cell_type": "markdown",
   "id": "15231e33",
   "metadata": {},
   "source": [
    "### Method a)\n"
   ]
  },
  {
   "cell_type": "code",
   "execution_count": null,
   "id": "4e24669b",
   "metadata": {},
   "outputs": [],
   "source": [
    "def matmul(a,b):\n",
    "    ar, ac = a.shape\n",
    "    br, bc = b.shape\n",
    "    assert ac == br, \"Incompatible shapes for matrix multiplication\"\n",
    "    c = torch.zeros(ar, bc)\n",
    "    for i in range(ar):\n",
    "        for j in range(bc):\n",
    "            for k in range(ac):\n",
    "                c[i,j] += a[i,k] * b[k,j]\n",
    "    return c\n",
    "\n"
   ]
  },
  {
   "cell_type": "code",
   "execution_count": null,
   "id": "e727184d",
   "metadata": {},
   "outputs": [],
   "source": [
    "%time t1 = matmul(x, weights)\n",
    "\n",
    "'''\n",
    "%%time is a magic command. It's a part of IPython.\n",
    "%%time prints the wall time for the entire cell whereas %time gives you the time for first line only\n",
    "'''"
   ]
  },
  {
   "cell_type": "markdown",
   "id": "648ee352",
   "metadata": {},
   "source": [
    "### Method b)\n",
    "Element-wise operations. Operators like (+, -, *, /, >, <, ==) are usually element-wise"
   ]
  },
  {
   "cell_type": "code",
   "execution_count": null,
   "id": "002de264",
   "metadata": {},
   "outputs": [],
   "source": [
    "def matmul_b(a,b):\n",
    "    ar, ac = a.shape\n",
    "    br, bc = b.shape\n",
    "    assert ac == br, \"Incompatible shapes for matrix multiplication\"\n",
    "    c = torch.zeros(ar, bc)\n",
    "    for i in range(ar):\n",
    "        for j in range(bc):\n",
    "            c[i,j] = (a[i,:] * b[:,j]).sum() # Python calls C code to do this\n",
    "    return c"
   ]
  },
  {
   "cell_type": "code",
   "execution_count": null,
   "id": "2acdd524",
   "metadata": {},
   "outputs": [],
   "source": [
    "%time t1 = matmul(x, weights)\n",
    "\n",
    "%time t1 = matmul_b(x, weights)\n",
    "\n",
    "%timeit -n 10  _ = matmul_b(x, weights)\n",
    "\n"
   ]
  },
  {
   "cell_type": "code",
   "execution_count": null,
   "id": "5515c7e9",
   "metadata": {},
   "outputs": [],
   "source": [
    "#export \n",
    "from exp.nb_00 import *\n",
    "\n",
    "def near(a, b): return torch.allclose(a, b, rtol=1e-5, atol=1e-8)\n",
    "def test_near(a,b): test(a,b, near)\n",
    "\n"
   ]
  },
  {
   "cell_type": "code",
   "execution_count": null,
   "id": "0472bec7",
   "metadata": {},
   "outputs": [],
   "source": [
    "# If it runs without an assertion error, it means the two functions are equivalent\n",
    "test_near(matmul(x, weights), matmul_b(x, weights))\n"
   ]
  },
  {
   "cell_type": "markdown",
   "id": "46db4f9d",
   "metadata": {},
   "source": [
    "### c) Matmul with broadcasting"
   ]
  },
  {
   "cell_type": "code",
   "execution_count": null,
   "id": "f2930528",
   "metadata": {},
   "outputs": [],
   "source": [
    "def matmul_c(a,b):\n",
    "    ar, ac = a.shape\n",
    "    br, bc = b.shape\n",
    "    assert ac == br, \"Incompatible shapes for matrix multiplication\"\n",
    "    c = torch.zeros(ar, bc)\n",
    "    for i in range(ar):\n",
    "        # c[i,:] = (a[i,:] * b).sum(0) # Python calls C code to do this\n",
    "        # c[i] = (a[i].unsqueeze(-1) * b).sum(dim=0) # Python calls C code to do this\n",
    "        c[i] = (a[i][...,None] * b).sum(dim=0) # Python calls C code to do this\n",
    "\n",
    "    return c\n",
    "\n"
   ]
  },
  {
   "cell_type": "code",
   "execution_count": null,
   "id": "cacbf692",
   "metadata": {},
   "outputs": [],
   "source": [
    "print(x.shape)\n",
    "print(x[None, 0].shape)\n",
    "print(x[0, None].shape)\n",
    "print(x[0].shape)\n",
    "print(x[0][...,None].shape)\n",
    "print()\n",
    "\n",
    "print(x[0].unsqueeze(-1).shape) \n",
    "print(weights.shape)\n"
   ]
  },
  {
   "cell_type": "code",
   "execution_count": null,
   "id": "3fe41ea2",
   "metadata": {},
   "outputs": [],
   "source": [
    "\n",
    "%timeit -n 10  _ = matmul(x, weights)\n",
    "%timeit -n 10  _ = matmul_b(x, weights)\n",
    "%timeit -n 10  _ = matmul_c(x, weights)\n",
    "\n"
   ]
  },
  {
   "cell_type": "markdown",
   "id": "1cb1de4c",
   "metadata": {},
   "source": [
    "### d) Matmul with Einsum"
   ]
  },
  {
   "cell_type": "code",
   "execution_count": null,
   "id": "a595214f",
   "metadata": {},
   "outputs": [],
   "source": [
    "def matmul_d(a,b):\n",
    "    return torch.einsum('ij,jk->ik', a, b)"
   ]
  },
  {
   "cell_type": "code",
   "execution_count": null,
   "id": "8ee8b56e",
   "metadata": {},
   "outputs": [],
   "source": [
    "print(\"Time with index matmul:\")\n",
    "%timeit -n 10  _ = matmul(x, weights)\n",
    "print('Time with \":\"\" row and col selection:')\n",
    "%timeit -n 10  _ = matmul_b(x, weights)\n",
    "print(\"Time with broadcasting\")\n",
    "%timeit -n 10  _ = matmul_c(x, weights)\n",
    "print(\"Time with einsum:\")\n",
    "%timeit -n 10  _ = matmul_d(x, weights)\n",
    "\n"
   ]
  },
  {
   "cell_type": "markdown",
   "id": "30d1e8cd",
   "metadata": {},
   "source": [
    "### e) Matmul from Pytorch \n",
    "Use of BLAS (Basic Linear Algebra Subprograms)"
   ]
  },
  {
   "cell_type": "code",
   "execution_count": null,
   "id": "d9e2a09d",
   "metadata": {},
   "outputs": [],
   "source": [
    "print(\"Time with index matmul:\")\n",
    "%timeit -n 10  _ = matmul(x, weights)\n",
    "print('Time with \":\"\" row and col selection:')\n",
    "%timeit -n 10  _ = matmul_b(x, weights)\n",
    "print(\"Time with broadcasting\")\n",
    "%timeit -n 10  _ = matmul_c(x, weights)\n",
    "print(\"Time with einsum:\")\n",
    "%timeit -n 10  _ = matmul_d(x, weights)\n",
    "print(\"Time Pytorch Matmul:\")\n",
    "%timeit -n 10  t2 = x.matmul(weights)\n",
    "\n",
    "\n",
    "\n"
   ]
  },
  {
   "cell_type": "markdown",
   "id": "001ab522",
   "metadata": {},
   "source": [
    "# Tests"
   ]
  },
  {
   "cell_type": "code",
   "execution_count": null,
   "id": "87b881a6",
   "metadata": {},
   "outputs": [],
   "source": [
    "t1 = matmul(x, weights)\n",
    "t2 = x.matmul(weights)\n",
    "\n",
    "test_near(t1, t2)\n"
   ]
  },
  {
   "cell_type": "markdown",
   "id": "9f568d97",
   "metadata": {},
   "source": [
    "# Programming languages Jeremy mentions:"
   ]
  },
  {
   "cell_type": "markdown",
   "id": "13ba05da",
   "metadata": {},
   "source": [
    "+ APL\n",
    "+ J\n",
    "+ K\n",
    "+ Halide"
   ]
  },
  {
   "cell_type": "markdown",
   "id": "3ab8eed1",
   "metadata": {},
   "source": [
    "- Polyhedral compillation"
   ]
  },
  {
   "cell_type": "markdown",
   "id": "89713898",
   "metadata": {},
   "source": [
    "+ Tensor comprehension"
   ]
  }
 ],
 "metadata": {
  "kernelspec": {
   "display_name": "FNOs",
   "language": "python",
   "name": "python3"
  },
  "language_info": {
   "codemirror_mode": {
    "name": "ipython",
    "version": 3
   },
   "file_extension": ".py",
   "mimetype": "text/x-python",
   "name": "python",
   "nbconvert_exporter": "python",
   "pygments_lexer": "ipython3",
   "version": "3.9.19"
  }
 },
 "nbformat": 4,
 "nbformat_minor": 5
}
